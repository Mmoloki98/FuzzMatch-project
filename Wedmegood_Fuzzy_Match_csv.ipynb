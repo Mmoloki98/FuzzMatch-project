{
  "nbformat": 4,
  "nbformat_minor": 0,
  "metadata": {
    "colab": {
      "provenance": []
    },
    "kernelspec": {
      "name": "python3",
      "display_name": "Python 3"
    },
    "language_info": {
      "name": "python"
    }
  },
  "cells": [
    {
      "cell_type": "code",
      "execution_count": 1,
      "metadata": {
        "colab": {
          "base_uri": "https://localhost:8080/"
        },
        "id": "9f-vLS37xs_t",
        "outputId": "a3404de7-3890-46cf-dbaa-1badee9369c6"
      },
      "outputs": [
        {
          "output_type": "stream",
          "name": "stdout",
          "text": [
            "Requirement already satisfied: pandas in /usr/local/lib/python3.10/dist-packages (2.2.2)\n",
            "Collecting fuzzywuzzy[speedup]\n",
            "  Downloading fuzzywuzzy-0.18.0-py2.py3-none-any.whl.metadata (4.9 kB)\n",
            "Collecting python-levenshtein>=0.12 (from fuzzywuzzy[speedup])\n",
            "  Downloading python_Levenshtein-0.26.1-py3-none-any.whl.metadata (3.7 kB)\n",
            "Requirement already satisfied: numpy>=1.22.4 in /usr/local/lib/python3.10/dist-packages (from pandas) (1.26.4)\n",
            "Requirement already satisfied: python-dateutil>=2.8.2 in /usr/local/lib/python3.10/dist-packages (from pandas) (2.8.2)\n",
            "Requirement already satisfied: pytz>=2020.1 in /usr/local/lib/python3.10/dist-packages (from pandas) (2024.2)\n",
            "Requirement already satisfied: tzdata>=2022.7 in /usr/local/lib/python3.10/dist-packages (from pandas) (2024.2)\n",
            "Requirement already satisfied: six>=1.5 in /usr/local/lib/python3.10/dist-packages (from python-dateutil>=2.8.2->pandas) (1.16.0)\n",
            "Collecting Levenshtein==0.26.1 (from python-levenshtein>=0.12->fuzzywuzzy[speedup])\n",
            "  Downloading levenshtein-0.26.1-cp310-cp310-manylinux_2_17_x86_64.manylinux2014_x86_64.whl.metadata (3.2 kB)\n",
            "Collecting rapidfuzz<4.0.0,>=3.9.0 (from Levenshtein==0.26.1->python-levenshtein>=0.12->fuzzywuzzy[speedup])\n",
            "  Downloading rapidfuzz-3.10.1-cp310-cp310-manylinux_2_17_x86_64.manylinux2014_x86_64.whl.metadata (11 kB)\n",
            "Downloading python_Levenshtein-0.26.1-py3-none-any.whl (9.4 kB)\n",
            "Downloading levenshtein-0.26.1-cp310-cp310-manylinux_2_17_x86_64.manylinux2014_x86_64.whl (162 kB)\n",
            "\u001b[2K   \u001b[90m━━━━━━━━━━━━━━━━━━━━━━━━━━━━━━━━━━━━━━━━\u001b[0m \u001b[32m162.6/162.6 kB\u001b[0m \u001b[31m4.2 MB/s\u001b[0m eta \u001b[36m0:00:00\u001b[0m\n",
            "\u001b[?25hDownloading fuzzywuzzy-0.18.0-py2.py3-none-any.whl (18 kB)\n",
            "Downloading rapidfuzz-3.10.1-cp310-cp310-manylinux_2_17_x86_64.manylinux2014_x86_64.whl (3.1 MB)\n",
            "\u001b[2K   \u001b[90m━━━━━━━━━━━━━━━━━━━━━━━━━━━━━━━━━━━━━━━━\u001b[0m \u001b[32m3.1/3.1 MB\u001b[0m \u001b[31m33.4 MB/s\u001b[0m eta \u001b[36m0:00:00\u001b[0m\n",
            "\u001b[?25hInstalling collected packages: fuzzywuzzy, rapidfuzz, Levenshtein, python-levenshtein\n",
            "Successfully installed Levenshtein-0.26.1 fuzzywuzzy-0.18.0 python-levenshtein-0.26.1 rapidfuzz-3.10.1\n"
          ]
        }
      ],
      "source": [
        "pip install fuzzywuzzy[speedup] pandas\n"
      ]
    },
    {
      "cell_type": "code",
      "source": [
        "import pandas as pd\n",
        "from fuzzywuzzy import fuzz\n",
        "from fuzzywuzzy import process"
      ],
      "metadata": {
        "id": "kRcZxACEyHWW"
      },
      "execution_count": 2,
      "outputs": []
    },
    {
      "cell_type": "code",
      "source": [
        "df1 = pd.read_csv('/content/venues.csv')\n",
        "df2 = pd.read_csv('/content/wedmegood_venues _complete.csv')"
      ],
      "metadata": {
        "id": "nnui5NwA-IMG"
      },
      "execution_count": 5,
      "outputs": []
    },
    {
      "cell_type": "code",
      "source": [
        "column_to_match_1 = 'VenueName'  # Column name in the first file\n",
        "column_to_match_2 = 'VenueName'  # Column name in the second file\n"
      ],
      "metadata": {
        "id": "AgW8xRCZ-rd0"
      },
      "execution_count": 6,
      "outputs": []
    },
    {
      "cell_type": "code",
      "source": [
        "column_to_match_1 = 'name'  # Corrected column name in the first file (df1)\n",
        "column_to_match_2 = 'Venue Name'  # Corrected column name in the second file (df2)\n",
        "\n",
        "matches = []\n",
        "for name in df1[column_to_match_1]:\n",
        "    match = process.extractOne(name, df2[column_to_match_2], scorer=fuzz.token_sort_ratio)\n",
        "    matches.append((name, match[0], match[1]))  # (Original Name, Matched Name, Similarity Score)"
      ],
      "metadata": {
        "id": "cftgWsXq_4Bn"
      },
      "execution_count": 8,
      "outputs": []
    },
    {
      "cell_type": "code",
      "source": [
        "match_df = pd.DataFrame(matches, columns=[f'{column_to_match_1}_file1', f'{column_to_match_2}_file2', 'Similarity Score'])"
      ],
      "metadata": {
        "id": "X-taZ-76_99W"
      },
      "execution_count": 9,
      "outputs": []
    },
    {
      "cell_type": "code",
      "source": [
        "threshold = 80  # Set your threshold here\n",
        "high_similarity_matches = match_df[match_df['Similarity Score'] >= threshold]"
      ],
      "metadata": {
        "id": "PjaUbJ1DAH3O"
      },
      "execution_count": 10,
      "outputs": []
    },
    {
      "cell_type": "code",
      "source": [
        "import os\n",
        "\n",
        "# ... (your existing code) ...\n",
        "\n",
        "# Before saving to CSV, check if the directory exists and create it if necessary\n",
        "output_dir = '/mnt/data'\n",
        "if not os.path.exists(output_dir):\n",
        "    os.makedirs(output_dir)\n",
        "\n",
        "# Now you can save the CSV file\n",
        "high_similarity_matches.to_csv('/mnt/data/fuzzy_matched_results.csv', index=False)"
      ],
      "metadata": {
        "id": "IyKHqmMaAbAW"
      },
      "execution_count": 13,
      "outputs": []
    },
    {
      "cell_type": "code",
      "source": [
        "print(high_similarity_matches)\n",
        "high_similarity_matches.to_csv('/mnt/data/fuzzy_matched_results.csv', index=False)"
      ],
      "metadata": {
        "colab": {
          "base_uri": "https://localhost:8080/"
        },
        "id": "Kbag4M9iAjxP",
        "outputId": "101fdec3-f9c8-4fe2-975d-13a668526711"
      },
      "execution_count": 14,
      "outputs": [
        {
          "output_type": "stream",
          "name": "stdout",
          "text": [
            "Empty DataFrame\n",
            "Columns: [name_file1, Venue Name_file2, Similarity Score]\n",
            "Index: []\n"
          ]
        }
      ]
    },
    {
      "cell_type": "code",
      "source": [
        "import os\n",
        "\n",
        "# ... (your existing code to generate high_similarity_matches) ...\n",
        "\n",
        "# Before saving to CSV, check if the directory exists and create it if necessary\n",
        "output_dir = '/mnt/data'\n",
        "if not os.path.exists(output_dir):\n",
        "    os.makedirs(output_dir)\n",
        "\n",
        "# Define the output file path\n",
        "output_file = os.path.join(output_dir, 'fuzzy_matched_results.csv')  # Define output_file\n",
        "\n",
        "# Now you can save the CSV file\n",
        "high_similarity_matches.to_csv(output_file, index=False)\n",
        "\n",
        "# Print the confirmation message using the defined output_file variable\n",
        "print(f\"The fuzzy matching results have been saved to {output_file}\")"
      ],
      "metadata": {
        "colab": {
          "base_uri": "https://localhost:8080/"
        },
        "id": "jmpQFrvjFeJ4",
        "outputId": "b711e073-dacf-41af-f8a5-85e25c4a72a7"
      },
      "execution_count": 16,
      "outputs": [
        {
          "output_type": "stream",
          "name": "stdout",
          "text": [
            "The fuzzy matching results have been saved to /mnt/data/fuzzy_matched_results.csv\n"
          ]
        }
      ]
    },
    {
      "cell_type": "markdown",
      "source": [
        "**Fixing **"
      ],
      "metadata": {
        "id": "FtFEWM7cGND2"
      }
    },
    {
      "cell_type": "code",
      "source": [
        "import pandas as pd\n",
        "from fuzzywuzzy import fuzz\n",
        "from fuzzywuzzy import process\n",
        "import os"
      ],
      "metadata": {
        "id": "YJapo-x5GUif"
      },
      "execution_count": 17,
      "outputs": []
    },
    {
      "cell_type": "code",
      "source": [
        "# Load the CSV files\n",
        "file_path_1 = '/mnt/data/wedmegood_venues _complete.csv'\n",
        "# Load the CSV files\n",
        "file_path_1 = '/mnt/data/wedmegood_venues _complete.csv'\n",
        "file_path_2 = '/mnt/data/venues.csv'\n",
        "\n",
        "df1 = pd.read_csv('/content/venues.csv')\n",
        "df2 = pd.read_csv('/content/wedmegood_venues _complete.csv')"
      ],
      "metadata": {
        "id": "wbVaeKCqGXZX"
      },
      "execution_count": 19,
      "outputs": []
    },
    {
      "cell_type": "code",
      "source": [
        "column_to_match_1 = 'VenueName'  # Column name in the first file\n",
        "column_to_match_2 = 'VenueName'  # Column name in the second file\n"
      ],
      "metadata": {
        "id": "PhtZZPTdGk_m"
      },
      "execution_count": 23,
      "outputs": []
    },
    {
      "cell_type": "code",
      "source": [
        "# Load the CSV files\n",
        "file_path_1 = '/mnt/data/wedmegood_venues _complete.csv'\n",
        "file_path_2 = '/mnt/data/venues.csv'\n",
        "\n",
        "df1 = pd.read_csv('/content/venues.csv')\n",
        "df2 = pd.read_csv('/content/wedmegood_venues _complete.csv')\n",
        "\n",
        "# Get the actual column names from the DataFrames\n",
        "df1_columns = df1.columns.tolist()\n",
        "df2_columns = df2.columns.tolist()\n",
        "\n",
        "# Print the column names to inspect them\n",
        "print(\"Columns in df1:\", df1_columns)\n",
        "print(\"Columns in df2:\", df2_columns)\n",
        "\n",
        "# Assuming the column name in df2 is actually 'Venue Name', correct the variable:\n",
        "column_to_match_2 = 'Venue Name'  # Column name in the second file\n",
        "\n",
        "# Assuming the column name in df1 is actually 'name', correct the variable:\n",
        "column_to_match_1 = 'name'  # Column name in the first file\n",
        "\n",
        "# Proceed with your fuzzy matching\n",
        "matches = []\n",
        "for name in df1[column_to_match_1]:\n",
        "    match = process.extractOne(name, df2[column_to_match_2], scorer=fuzz.token_sort_ratio)\n",
        "    matches.append((name, match[0], match[1]))"
      ],
      "metadata": {
        "colab": {
          "base_uri": "https://localhost:8080/"
        },
        "id": "m3m9WZaNHBEm",
        "outputId": "8946aa96-f723-4816-cfbc-09b6b1332b91"
      },
      "execution_count": 25,
      "outputs": [
        {
          "output_type": "stream",
          "name": "stdout",
          "text": [
            "Columns in df1: ['name', 'location', 'price', 'capacity']\n",
            "Columns in df2: ['Venue Name', 'Rating', 'Reviews', 'Location', 'Veg Price per Plate', 'Non-Veg Price per Plate', 'URL']\n"
          ]
        }
      ]
    },
    {
      "cell_type": "code",
      "source": [
        "match_df = pd.DataFrame(matches, columns=[f'{column_to_match_1}_file1', f'{column_to_match_2}_file2', 'Similarity Score'])"
      ],
      "metadata": {
        "id": "j-NWE3eEHSV3"
      },
      "execution_count": 26,
      "outputs": []
    },
    {
      "cell_type": "code",
      "source": [
        "threshold = 80  # Set your threshold here\n",
        "high_similarity_matches = match_df[match_df['Similarity Score'] >= threshold]"
      ],
      "metadata": {
        "id": "PYxwW6a7HYJg"
      },
      "execution_count": 27,
      "outputs": []
    },
    {
      "cell_type": "code",
      "source": [
        "pd.set_option('display.max_rows', None)  # Display all rows\n",
        "pd.set_option('display.max_columns', None)  # Display all columns\n",
        "print(high_similarity_matches)  # Print the DataFrame"
      ],
      "metadata": {
        "colab": {
          "base_uri": "https://localhost:8080/"
        },
        "id": "eFUjCR2oHcdW",
        "outputId": "e12f53c2-54a6-445d-cc84-8485930e9a2a"
      },
      "execution_count": 28,
      "outputs": [
        {
          "output_type": "stream",
          "name": "stdout",
          "text": [
            "Empty DataFrame\n",
            "Columns: [name_file1, Venue Name_file2, Similarity Score]\n",
            "Index: []\n"
          ]
        }
      ]
    },
    {
      "cell_type": "code",
      "source": [
        "output_dir = '/mnt/data'\n",
        "if not os.path.exists(output_dir):\n",
        "    os.makedirs(output_dir)"
      ],
      "metadata": {
        "id": "JsM9RWKmHhpe"
      },
      "execution_count": 29,
      "outputs": []
    },
    {
      "cell_type": "code",
      "source": [
        "output_file = os.path.join(output_dir, 'fuzzy_matched_results.csv')  # Define output_file"
      ],
      "metadata": {
        "id": "JDJstBbFHlVm"
      },
      "execution_count": 30,
      "outputs": []
    },
    {
      "cell_type": "code",
      "source": [
        "high_similarity_matches.to_csv(output_file, index=False)"
      ],
      "metadata": {
        "id": "KqoKAmZfHp7-"
      },
      "execution_count": 31,
      "outputs": []
    },
    {
      "cell_type": "code",
      "source": [
        "print(f\"The fuzzy matching results have been saved to {output_file}\")"
      ],
      "metadata": {
        "colab": {
          "base_uri": "https://localhost:8080/"
        },
        "id": "14rnIFYuHtrf",
        "outputId": "9a268e7f-a789-491a-dd87-c6179af6e7ac"
      },
      "execution_count": 32,
      "outputs": [
        {
          "output_type": "stream",
          "name": "stdout",
          "text": [
            "The fuzzy matching results have been saved to /mnt/data/fuzzy_matched_results.csv\n"
          ]
        }
      ]
    }
  ]
}